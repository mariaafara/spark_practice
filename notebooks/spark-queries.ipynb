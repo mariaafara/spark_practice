{
 "cells": [
  {
   "cell_type": "code",
   "execution_count": 1,
   "id": "38058114-0edb-46d7-9a5a-7f0e67834e05",
   "metadata": {},
   "outputs": [],
   "source": [
    "from pyspark import SparkConf\n",
    "from pyspark.sql import SparkSession, functions as F\n",
    "\n",
    "session_conf = (\n",
    "    SparkConf()\n",
    "    .setAppName(\"Parquet app\")\n",
    "    .setMaster(\"local[4]\")\n",
    ")\n",
    "\n",
    "spark = (\n",
    "    SparkSession.builder\n",
    "    .config(conf=session_conf)\n",
    "    .getOrCreate()\n",
    ")"
   ]
  },
  {
   "cell_type": "code",
   "execution_count": 2,
   "id": "3cdd4d7c-1bd2-4331-a743-cdd09f4d6569",
   "metadata": {},
   "outputs": [],
   "source": [
    "# Download data from https://huggingface.co/datasets/Splend1dchan/phone-squad-parquet/tree/main\n",
    "# -> download train.parquet , I am taking it just as a data example to manipulate"
   ]
  },
  {
   "cell_type": "markdown",
   "id": "96a5d75b-a08c-422c-bd59-2f3be17950d3",
   "metadata": {},
   "source": [
    "## About the dataset \n",
    "Stanford Question Answering Dataset (SQuAD) is a reading comprehension dataset, consisting of questions posed by crowdworkers on a set of Wikipedia articles, where the answer to every question is a segment of text, or span, from the corresponding reading passage, or the question might be unanswerable."
   ]
  },
  {
   "cell_type": "code",
   "execution_count": 9,
   "id": "8fa0fc51-75d9-45f8-92f4-683edf783d8e",
   "metadata": {},
   "outputs": [],
   "source": [
    "# load the downloaded data and select only certain columns\n",
    "df = spark.read.parquet(\"../data/mydata2/texts.parquet\").select(\"id\", \"title\", \"context\", \"question\", \"answers\")"
   ]
  },
  {
   "cell_type": "code",
   "execution_count": 10,
   "id": "d69b24ac-82c7-4046-8375-6caaabb702e1",
   "metadata": {},
   "outputs": [
    {
     "data": {
      "text/plain": [
       "87599"
      ]
     },
     "execution_count": 10,
     "metadata": {},
     "output_type": "execute_result"
    }
   ],
   "source": [
    "df.count()"
   ]
  },
  {
   "cell_type": "code",
   "execution_count": 11,
   "id": "877d2977-0a4c-4451-898d-85eb8f8c1d0b",
   "metadata": {},
   "outputs": [
    {
     "name": "stdout",
     "output_type": "stream",
     "text": [
      "root\n",
      " |-- id: string (nullable = true)\n",
      " |-- title: string (nullable = true)\n",
      " |-- context: string (nullable = true)\n",
      " |-- question: string (nullable = true)\n",
      " |-- answers: struct (nullable = true)\n",
      " |    |-- text: array (nullable = true)\n",
      " |    |    |-- element: string (containsNull = true)\n",
      " |    |-- answer_start: array (nullable = true)\n",
      " |    |    |-- element: integer (containsNull = true)\n",
      "\n"
     ]
    }
   ],
   "source": [
    "# take a look at the schema on our current DataFrame\n",
    "df.printSchema()"
   ]
  },
  {
   "cell_type": "code",
   "execution_count": 12,
   "id": "5f48c5df-3cb1-41a5-9245-14e24e6d0855",
   "metadata": {},
   "outputs": [
    {
     "data": {
      "text/plain": [
       "StructType([StructField('id', StringType(), True), StructField('title', StringType(), True), StructField('context', StringType(), True), StructField('question', StringType(), True), StructField('answers', StructType([StructField('text', ArrayType(StringType(), True), True), StructField('answer_start', ArrayType(IntegerType(), True), True)]), True)])"
      ]
     },
     "execution_count": 12,
     "metadata": {},
     "output_type": "execute_result"
    }
   ],
   "source": [
    "df.schema"
   ]
  },
  {
   "cell_type": "code",
   "execution_count": 13,
   "id": "3d2282a9-1af2-4dac-ad00-e7c4fb5318f7",
   "metadata": {},
   "outputs": [
    {
     "data": {
      "text/plain": [
       "['id', 'title', 'context', 'question', 'answers']"
      ]
     },
     "execution_count": 13,
     "metadata": {},
     "output_type": "execute_result"
    }
   ],
   "source": [
    "df.columns"
   ]
  },
  {
   "cell_type": "code",
   "execution_count": 14,
   "id": "50f2a1c6-1822-430d-b908-da838363264d",
   "metadata": {},
   "outputs": [
    {
     "data": {
      "text/plain": [
       "Column<'title'>"
      ]
     },
     "execution_count": 14,
     "metadata": {},
     "output_type": "execute_result"
    }
   ],
   "source": [
    "F.col(\"title\")"
   ]
  },
  {
   "cell_type": "code",
   "execution_count": 15,
   "id": "f1ff78e0-021d-41e4-9d8f-5fafbdfb2e45",
   "metadata": {},
   "outputs": [
    {
     "data": {
      "text/plain": [
       "Column<'title'>"
      ]
     },
     "execution_count": 15,
     "metadata": {},
     "output_type": "execute_result"
    }
   ],
   "source": [
    "F.column(\"title\")"
   ]
  },
  {
   "cell_type": "code",
   "execution_count": 16,
   "id": "2f2e4a05-496a-4732-bd86-d82ec1aa9c9c",
   "metadata": {},
   "outputs": [
    {
     "data": {
      "text/plain": [
       "Column<'(title + A)'>"
      ]
     },
     "execution_count": 16,
     "metadata": {},
     "output_type": "execute_result"
    }
   ],
   "source": [
    "F.expr(\"title + A\")"
   ]
  },
  {
   "cell_type": "code",
   "execution_count": 17,
   "id": "0e5a1892-efbc-4036-a0bc-d22cb055e311",
   "metadata": {},
   "outputs": [
    {
     "data": {
      "text/plain": [
       "Column<'(title + A)'>"
      ]
     },
     "execution_count": 17,
     "metadata": {},
     "output_type": "execute_result"
    }
   ],
   "source": [
    "F.expr(\"title\") + \"A\""
   ]
  },
  {
   "cell_type": "code",
   "execution_count": 18,
   "id": "6a10e281-88e6-441c-a9d6-665b1468aa1a",
   "metadata": {
    "tags": []
   },
   "outputs": [
    {
     "ename": "AttributeError",
     "evalue": "'DataFrame' object has no attribute 'col'",
     "output_type": "error",
     "traceback": [
      "\u001b[0;31m---------------------------------------------------------------------------\u001b[0m",
      "\u001b[0;31mAttributeError\u001b[0m                            Traceback (most recent call last)",
      "Cell \u001b[0;32mIn [18], line 2\u001b[0m\n\u001b[1;32m      1\u001b[0m \u001b[38;5;66;03m# refer to a specific DataFrame’s column\u001b[39;00m\n\u001b[0;32m----> 2\u001b[0m \u001b[43mdf\u001b[49m\u001b[38;5;241;43m.\u001b[39;49m\u001b[43mcol\u001b[49m(\u001b[38;5;124m\"\u001b[39m\u001b[38;5;124mid\u001b[39m\u001b[38;5;124m\"\u001b[39m)\n",
      "File \u001b[0;32m/usr/local/spark/python/pyspark/sql/dataframe.py:1988\u001b[0m, in \u001b[0;36mDataFrame.__getattr__\u001b[0;34m(self, name)\u001b[0m\n\u001b[1;32m   1978\u001b[0m \u001b[38;5;124;03m\"\"\"Returns the :class:`Column` denoted by ``name``.\u001b[39;00m\n\u001b[1;32m   1979\u001b[0m \n\u001b[1;32m   1980\u001b[0m \u001b[38;5;124;03m.. versionadded:: 1.3.0\u001b[39;00m\n\u001b[0;32m   (...)\u001b[0m\n\u001b[1;32m   1985\u001b[0m \u001b[38;5;124;03m[Row(age=2), Row(age=5)]\u001b[39;00m\n\u001b[1;32m   1986\u001b[0m \u001b[38;5;124;03m\"\"\"\u001b[39;00m\n\u001b[1;32m   1987\u001b[0m \u001b[38;5;28;01mif\u001b[39;00m name \u001b[38;5;129;01mnot\u001b[39;00m \u001b[38;5;129;01min\u001b[39;00m \u001b[38;5;28mself\u001b[39m\u001b[38;5;241m.\u001b[39mcolumns:\n\u001b[0;32m-> 1988\u001b[0m     \u001b[38;5;28;01mraise\u001b[39;00m \u001b[38;5;167;01mAttributeError\u001b[39;00m(\n\u001b[1;32m   1989\u001b[0m         \u001b[38;5;124m\"\u001b[39m\u001b[38;5;124m'\u001b[39m\u001b[38;5;132;01m%s\u001b[39;00m\u001b[38;5;124m'\u001b[39m\u001b[38;5;124m object has no attribute \u001b[39m\u001b[38;5;124m'\u001b[39m\u001b[38;5;132;01m%s\u001b[39;00m\u001b[38;5;124m'\u001b[39m\u001b[38;5;124m\"\u001b[39m \u001b[38;5;241m%\u001b[39m (\u001b[38;5;28mself\u001b[39m\u001b[38;5;241m.\u001b[39m\u001b[38;5;18m__class__\u001b[39m\u001b[38;5;241m.\u001b[39m\u001b[38;5;18m__name__\u001b[39m, name)\n\u001b[1;32m   1990\u001b[0m     )\n\u001b[1;32m   1991\u001b[0m jc \u001b[38;5;241m=\u001b[39m \u001b[38;5;28mself\u001b[39m\u001b[38;5;241m.\u001b[39m_jdf\u001b[38;5;241m.\u001b[39mapply(name)\n\u001b[1;32m   1992\u001b[0m \u001b[38;5;28;01mreturn\u001b[39;00m Column(jc)\n",
      "\u001b[0;31mAttributeError\u001b[0m: 'DataFrame' object has no attribute 'col'"
     ]
    }
   ],
   "source": [
    "# refer to a specific DataFrame’s column\n",
    "df.col(\"id\")"
   ]
  },
  {
   "cell_type": "code",
   "execution_count": 19,
   "id": "9b1e1af5-585e-4973-9726-a82e31405b0b",
   "metadata": {},
   "outputs": [
    {
     "data": {
      "text/plain": [
       "Row(id='5733be284776f41900661182', title='University_of_Notre_Dame', context='Architecturally, the school has a Catholic character. Atop the Main Building\\'s gold dome is a golden statue of the Virgin Mary. Immediately in front of the Main Building and facing it, is a copper statue of Christ with arms upraised with the legend \"Venite Ad Me Omnes\". Next to the Main Building is the Basilica of the Sacred Heart. Immediately behind the basilica is the Grotto, a Marian place of prayer and reflection. It is a replica of the grotto at Lourdes, France where the Virgin Mary reputedly appeared to Saint Bernadette Soubirous in 1858. At the end of the main drive (and in a direct line that connects through 3 statues and the Gold Dome), is a simple, modern stone statue of Mary.', question='To whom did the Virgin Mary allegedly appear in 1858 in Lourdes France?', answers=Row(text=['Saint Bernadette Soubirous'], answer_start=[515]))"
      ]
     },
     "execution_count": 19,
     "metadata": {},
     "output_type": "execute_result"
    }
   ],
   "source": [
    "df.first()"
   ]
  },
  {
   "cell_type": "code",
   "execution_count": 21,
   "id": "74c35bb9-96d2-4330-a52d-5ffe4c3781c2",
   "metadata": {},
   "outputs": [
    {
     "name": "stdout",
     "output_type": "stream",
     "text": [
      "+------------------------+------------------------+\n",
      "|id                      |title                   |\n",
      "+------------------------+------------------------+\n",
      "|5733be284776f41900661182|University_of_Notre_Dame|\n",
      "+------------------------+------------------------+\n",
      "only showing top 1 row\n",
      "\n"
     ]
    }
   ],
   "source": [
    "df.select(\"id\", \"title\").show(1, False)"
   ]
  },
  {
   "cell_type": "code",
   "execution_count": 22,
   "id": "28e4fb61-8515-40da-ba30-c58fd6c0fe98",
   "metadata": {},
   "outputs": [
    {
     "name": "stdout",
     "output_type": "stream",
     "text": [
      "+------------------------+------------------------+-----------------------------------------------------------------------+\n",
      "|id                      |title                   |question                                                               |\n",
      "+------------------------+------------------------+-----------------------------------------------------------------------+\n",
      "|5733be284776f41900661182|University_of_Notre_Dame|To whom did the Virgin Mary allegedly appear in 1858 in Lourdes France?|\n",
      "|5733be284776f4190066117f|University_of_Notre_Dame|What is in front of the Notre Dame Main Building?                      |\n",
      "+------------------------+------------------------+-----------------------------------------------------------------------+\n",
      "only showing top 2 rows\n",
      "\n"
     ]
    }
   ],
   "source": [
    "df.select(\n",
    "      F.expr(\"id\"),\n",
    "      F.col(\"title\"),\n",
    "      F.column(\"question\"))\\\n",
    ".show(2, False)"
   ]
  },
  {
   "cell_type": "code",
   "execution_count": 23,
   "id": "501f448d-7c87-4b9a-86cc-1a95fac23b3f",
   "metadata": {},
   "outputs": [],
   "source": [
    "# df.select(\n",
    "#       F.expr(\"id + --- + title\"),\n",
    "#       F.column(\"context\"))\\\n",
    "# .show(2, False)"
   ]
  },
  {
   "cell_type": "code",
   "execution_count": 24,
   "id": "e3ead4b1-ed0b-4b0e-8294-89517afe4986",
   "metadata": {},
   "outputs": [
    {
     "name": "stdout",
     "output_type": "stream",
     "text": [
      "+------------------------+\n",
      "|row_id                  |\n",
      "+------------------------+\n",
      "|5733be284776f41900661182|\n",
      "+------------------------+\n",
      "only showing top 1 row\n",
      "\n"
     ]
    }
   ],
   "source": [
    "# change returned col name\n",
    "df.select(F.expr(\"id as row_id\")).show(1, False)"
   ]
  },
  {
   "cell_type": "code",
   "execution_count": 25,
   "id": "69c0ae3f-4660-4e47-a38d-66ef97d755df",
   "metadata": {},
   "outputs": [
    {
     "name": "stdout",
     "output_type": "stream",
     "text": [
      "+------------------------+\n",
      "|id                      |\n",
      "+------------------------+\n",
      "|5733be284776f41900661182|\n",
      "+------------------------+\n",
      "only showing top 1 row\n",
      "\n"
     ]
    }
   ],
   "source": [
    "# change returned col name and then change it back to its original with alias\n",
    "df.select(F.expr(\"id as row_id\").alias(\"id\")).show(1, False)"
   ]
  },
  {
   "cell_type": "code",
   "execution_count": 26,
   "id": "59de1ece-8448-4472-9bcc-07b77a0eb82f",
   "metadata": {},
   "outputs": [
    {
     "name": "stdout",
     "output_type": "stream",
     "text": [
      "+------------------------+------------------------+\n",
      "|row_id                  |id                      |\n",
      "+------------------------+------------------------+\n",
      "|5733be284776f41900661182|5733be284776f41900661182|\n",
      "+------------------------+------------------------+\n",
      "only showing top 1 row\n",
      "\n"
     ]
    }
   ],
   "source": [
    "df.selectExpr(\"id as row_id\", \"id\").show(1, False)"
   ]
  },
  {
   "cell_type": "code",
   "execution_count": 27,
   "id": "ceebd137-afd2-4596-9ba8-e80fdc76ef9b",
   "metadata": {},
   "outputs": [
    {
     "name": "stdout",
     "output_type": "stream",
     "text": [
      "+--------------------+--------------------+--------------------+--------------------+--------------------+-------+\n",
      "|                  id|               title|             context|            question|             answers|new_col|\n",
      "+--------------------+--------------------+--------------------+--------------------+--------------------+-------+\n",
      "|5733be284776f4190...|University_of_Not...|Architecturally, ...|To whom did the V...|{[Saint Bernadett...|   true|\n",
      "|5733be284776f4190...|University_of_Not...|Architecturally, ...|What is in front ...|{[a copper statue...|   true|\n",
      "+--------------------+--------------------+--------------------+--------------------+--------------------+-------+\n",
      "only showing top 2 rows\n",
      "\n"
     ]
    }
   ],
   "source": [
    "df.selectExpr(\n",
    "\"*\", # all originalcolumns\n",
    "\"(title = title) as new_col\")\\\n",
    ".show(2)"
   ]
  },
  {
   "cell_type": "markdown",
   "id": "65059cf8-84f7-477c-92a8-a2cab750ebb3",
   "metadata": {
    "tags": []
   },
   "source": [
    "### Get unique rows in the dataset"
   ]
  },
  {
   "cell_type": "markdown",
   "id": "c7bcaae7-ca80-4b0e-877b-3339a14ef3f1",
   "metadata": {
    "tags": []
   },
   "source": [
    "####  select count of unique titles"
   ]
  },
  {
   "cell_type": "code",
   "execution_count": 37,
   "id": "b35b882d-d1b4-4693-9676-33124be1ab1c",
   "metadata": {},
   "outputs": [
    {
     "name": "stdout",
     "output_type": "stream",
     "text": [
      "+---------------------+\n",
      "|count(DISTINCT title)|\n",
      "+---------------------+\n",
      "|                  442|\n",
      "+---------------------+\n",
      "\n"
     ]
    }
   ],
   "source": [
    "df.selectExpr(\"count(distinct(title))\").show(2)"
   ]
  },
  {
   "cell_type": "code",
   "execution_count": 38,
   "id": "75504cf8-241f-4d9b-9116-ae3794796a48",
   "metadata": {},
   "outputs": [
    {
     "data": {
      "text/plain": [
       "442"
      ]
     },
     "execution_count": 38,
     "metadata": {},
     "output_type": "execute_result"
    }
   ],
   "source": [
    "df.select(\"title\").distinct().count()"
   ]
  },
  {
   "cell_type": "code",
   "execution_count": 44,
   "id": "01af28a2-4957-450a-a160-1925d4870a2d",
   "metadata": {},
   "outputs": [
    {
     "data": {
      "text/plain": [
       "87599"
      ]
     },
     "execution_count": 44,
     "metadata": {},
     "output_type": "execute_result"
    }
   ],
   "source": [
    "# all titles\n",
    "df.select(\"title\").count()"
   ]
  },
  {
   "cell_type": "markdown",
   "id": "4c2fce81-ddd8-45d6-8a27-68dcb25a294f",
   "metadata": {},
   "source": [
    "So we have 442 unique titles out of 87599 "
   ]
  },
  {
   "cell_type": "code",
   "execution_count": 42,
   "id": "46c55acc-da07-4fec-9670-2866e58bf78b",
   "metadata": {},
   "outputs": [
    {
     "name": "stdout",
     "output_type": "stream",
     "text": [
      "+----------------------------------------------+\n",
      "|title                                         |\n",
      "+----------------------------------------------+\n",
      "|Hanover                                       |\n",
      "|Sino-Tibetan_relations_during_the_Ming_dynasty|\n",
      "|Alps                                          |\n",
      "|Gymnastics                                    |\n",
      "|Saint_Barth%C3%A9lemy                         |\n",
      "+----------------------------------------------+\n",
      "only showing top 5 rows\n",
      "\n"
     ]
    }
   ],
   "source": [
    "# showing 5 unique titles\n",
    "df.select(\"title\").distinct().show(5, False)"
   ]
  },
  {
   "cell_type": "code",
   "execution_count": 47,
   "id": "089b2c87-97d8-4b36-a187-f7efe4641fd4",
   "metadata": {},
   "outputs": [
    {
     "name": "stdout",
     "output_type": "stream",
     "text": [
      "+--------------------+--------------------+--------------------+--------------------+--------------------+\n",
      "|                  id|               title|             context|            question|             answers|\n",
      "+--------------------+--------------------+--------------------+--------------------+--------------------+\n",
      "|5733be284776f4190...|University_of_Not...|Architecturally, ...|To whom did the V...|{[Saint Bernadett...|\n",
      "|5733be284776f4190...|University_of_Not...|Architecturally, ...|What is in front ...|{[a copper statue...|\n",
      "|5733be284776f4190...|University_of_Not...|Architecturally, ...|The Basilica of t...|{[the Main Buildi...|\n",
      "|5733be284776f4190...|University_of_Not...|Architecturally, ...|What is the Grott...|{[a Marian place ...|\n",
      "|5733be284776f4190...|University_of_Not...|Architecturally, ...|What sits on top ...|{[a golden statue...|\n",
      "+--------------------+--------------------+--------------------+--------------------+--------------------+\n",
      "only showing top 5 rows\n",
      "\n"
     ]
    }
   ],
   "source": [
    "df.show(5)"
   ]
  },
  {
   "cell_type": "markdown",
   "id": "36c65c99-05b3-436c-aa1f-dc8ad444d5b8",
   "metadata": {},
   "source": [
    "#### Select unique title, questions"
   ]
  },
  {
   "cell_type": "code",
   "execution_count": 48,
   "id": "74653506-8e84-4775-8450-bbdc65a5efbd",
   "metadata": {},
   "outputs": [
    {
     "data": {
      "text/plain": [
       "87370"
      ]
     },
     "execution_count": 48,
     "metadata": {},
     "output_type": "execute_result"
    }
   ],
   "source": [
    "df.select(\"title\", \"question\").distinct().count()"
   ]
  },
  {
   "cell_type": "code",
   "execution_count": 49,
   "id": "51308eae-a6e0-4924-931d-1d0937085fd3",
   "metadata": {},
   "outputs": [
    {
     "data": {
      "text/plain": [
       "229"
      ]
     },
     "execution_count": 49,
     "metadata": {},
     "output_type": "execute_result"
    }
   ],
   "source": [
    "87599 - 87370"
   ]
  },
  {
   "cell_type": "markdown",
   "id": "4b866bfe-bc86-4027-bd7c-4a0d531be2b0",
   "metadata": {},
   "source": [
    "Total of 87599 rows we have 229 duplicate title and question. Lets see if there is also duplicate title, question and answer (do we have same questions that are answered differently?). "
   ]
  },
  {
   "cell_type": "code",
   "execution_count": 50,
   "id": "e0047b20-bc31-45ac-ab51-d1601a5dcf2c",
   "metadata": {},
   "outputs": [
    {
     "data": {
      "text/plain": [
       "87507"
      ]
     },
     "execution_count": 50,
     "metadata": {},
     "output_type": "execute_result"
    }
   ],
   "source": [
    "df.select(\"title\", \"question\", \"answers\").distinct().count()"
   ]
  },
  {
   "cell_type": "code",
   "execution_count": 51,
   "id": "670f8158-d3ec-4734-8a2a-f0a1d03766c1",
   "metadata": {},
   "outputs": [
    {
     "data": {
      "text/plain": [
       "92"
      ]
     },
     "execution_count": 51,
     "metadata": {},
     "output_type": "execute_result"
    }
   ],
   "source": [
    "87599 - 87507"
   ]
  },
  {
   "cell_type": "markdown",
   "id": "7308dbc5-5ca1-4271-8f52-704500faeaa0",
   "metadata": {},
   "source": [
    "We do have 92 questions for the same title that have the same answer"
   ]
  },
  {
   "cell_type": "code",
   "execution_count": 52,
   "id": "e8ef1de4-9d5b-4ecb-86de-6af5387a97a4",
   "metadata": {},
   "outputs": [
    {
     "data": {
      "text/plain": [
       "87599"
      ]
     },
     "execution_count": 52,
     "metadata": {},
     "output_type": "execute_result"
    }
   ],
   "source": [
    "df.distinct().count()"
   ]
  },
  {
   "cell_type": "markdown",
   "id": "92cdabda-4b4b-4a69-8b32-78c039823589",
   "metadata": {},
   "source": [
    "we do not have duplicated rows however, so the answer or context must be the once that differ."
   ]
  },
  {
   "cell_type": "code",
   "execution_count": 54,
   "id": "ceba067c-a373-4abb-9b90-081b7b5a708f",
   "metadata": {},
   "outputs": [
    {
     "data": {
      "text/plain": [
       "87599"
      ]
     },
     "execution_count": 54,
     "metadata": {},
     "output_type": "execute_result"
    }
   ],
   "source": [
    "df.select(\"id\", \"title\", \"question\", \"answers\").distinct().count()"
   ]
  },
  {
   "cell_type": "markdown",
   "id": "c6b30046-e4af-4ac8-90c4-420220ab3331",
   "metadata": {},
   "source": [
    "so it is the id that differs "
   ]
  },
  {
   "cell_type": "code",
   "execution_count": 55,
   "id": "ef7a9ff2-abff-4e79-a30f-0a577efc4937",
   "metadata": {},
   "outputs": [
    {
     "data": {
      "text/plain": [
       "87507"
      ]
     },
     "execution_count": 55,
     "metadata": {},
     "output_type": "execute_result"
    }
   ],
   "source": [
    "df.select(\"title\", \"context\", \"question\", \"answers\").distinct().count()"
   ]
  },
  {
   "cell_type": "markdown",
   "id": "f9b7e854-deaf-45f3-868e-afec385751a9",
   "metadata": {},
   "source": [
    "and these 92 duplicate questions answers have the same context.\n",
    "<br>\n",
    "Next lets remove these rows"
   ]
  },
  {
   "cell_type": "markdown",
   "id": "650428ca-3664-4aaa-bb5c-83cf5b50c62b",
   "metadata": {
    "tags": []
   },
   "source": [
    "### Remove duplicate question answers"
   ]
  },
  {
   "cell_type": "code",
   "execution_count": 62,
   "id": "5b834ee5-7357-4ddd-8410-c6fbc1f8ec23",
   "metadata": {},
   "outputs": [],
   "source": [
    "df = df.dropDuplicates([\"title\", \"context\", \"question\", \"answers\"])"
   ]
  },
  {
   "cell_type": "code",
   "execution_count": 63,
   "id": "2e2679a3-2b98-49c5-af05-4ed4fdced000",
   "metadata": {},
   "outputs": [
    {
     "data": {
      "text/plain": [
       "87507"
      ]
     },
     "execution_count": 63,
     "metadata": {},
     "output_type": "execute_result"
    }
   ],
   "source": [
    "df.count()"
   ]
  },
  {
   "cell_type": "markdown",
   "id": "fad34772-97a5-45c4-adff-a5bb7b2351cf",
   "metadata": {},
   "source": [
    "### f"
   ]
  },
  {
   "cell_type": "code",
   "execution_count": 29,
   "id": "bceca2f9-35e1-4d44-a808-1a34867d8642",
   "metadata": {},
   "outputs": [
    {
     "name": "stdout",
     "output_type": "stream",
     "text": [
      "+--------------------+--------------------+--------------------+--------------------+--------------------+---+\n",
      "|                  id|               title|             context|            question|             answers|One|\n",
      "+--------------------+--------------------+--------------------+--------------------+--------------------+---+\n",
      "|5733be284776f4190...|University_of_Not...|Architecturally, ...|To whom did the V...|{[Saint Bernadett...|  1|\n",
      "|5733be284776f4190...|University_of_Not...|Architecturally, ...|What is in front ...|{[a copper statue...|  1|\n",
      "+--------------------+--------------------+--------------------+--------------------+--------------------+---+\n",
      "only showing top 2 rows\n",
      "\n"
     ]
    }
   ],
   "source": [
    "from pyspark.sql.functions import lit\n",
    "# SELECT *, 1 as One FROM dfTable LIMIT 2\n",
    "df.select(F.expr(\"*\"), lit(1).alias(\"One\")).show(2)"
   ]
  },
  {
   "cell_type": "code",
   "execution_count": 30,
   "id": "a21e8c02-1533-4a6d-bc71-57c23bd18651",
   "metadata": {},
   "outputs": [
    {
     "name": "stdout",
     "output_type": "stream",
     "text": [
      "+--------------------+--------------------+--------------------+--------------------+--------------------+-----------+\n",
      "|                  id|               title|             context|            question|             answers|withintitle|\n",
      "+--------------------+--------------------+--------------------+--------------------+--------------------+-----------+\n",
      "|5733be284776f4190...|University_of_Not...|Architecturally, ...|To whom did the V...|{[Saint Bernadett...|       true|\n",
      "|5733be284776f4190...|University_of_Not...|Architecturally, ...|What is in front ...|{[a copper statue...|       true|\n",
      "+--------------------+--------------------+--------------------+--------------------+--------------------+-----------+\n",
      "only showing top 2 rows\n",
      "\n"
     ]
    }
   ],
   "source": [
    "df.withColumn(\"withintitle\", F.expr(\"title == title\"))\\\n",
    "    .show(2)"
   ]
  },
  {
   "cell_type": "code",
   "execution_count": 31,
   "id": "98afb3bc-0f9d-4c1f-a112-b05312c82b66",
   "metadata": {},
   "outputs": [
    {
     "name": "stdout",
     "output_type": "stream",
     "text": [
      "+--------------------+--------------------+--------------------+--------------------+--------------------+\n",
      "|                  id|               title|             context|            question|             answers|\n",
      "+--------------------+--------------------+--------------------+--------------------+--------------------+\n",
      "|5733be284776f4190...|University_of_Not...|Architecturally, ...|To whom did the V...|{[Saint Bernadett...|\n",
      "|5733be284776f4190...|University_of_Not...|Architecturally, ...|What is in front ...|{[a copper statue...|\n",
      "+--------------------+--------------------+--------------------+--------------------+--------------------+\n",
      "only showing top 2 rows\n",
      "\n"
     ]
    }
   ],
   "source": [
    "df.filter(F.col(\"title\") ==\"University_of_Notre_Dame\").show(2)\n"
   ]
  },
  {
   "cell_type": "code",
   "execution_count": 32,
   "id": "54ae6fbf-cca8-49ad-a695-43f4b083528d",
   "metadata": {},
   "outputs": [
    {
     "name": "stdout",
     "output_type": "stream",
     "text": [
      "+--------------------+--------------------+--------------------+--------------------+--------------------+\n",
      "|                  id|               title|             context|            question|             answers|\n",
      "+--------------------+--------------------+--------------------+--------------------+--------------------+\n",
      "|5733be284776f4190...|University_of_Not...|Architecturally, ...|To whom did the V...|{[Saint Bernadett...|\n",
      "|5733be284776f4190...|University_of_Not...|Architecturally, ...|What is in front ...|{[a copper statue...|\n",
      "+--------------------+--------------------+--------------------+--------------------+--------------------+\n",
      "only showing top 2 rows\n",
      "\n"
     ]
    }
   ],
   "source": [
    "df.where(F.col(\"title\") == \"University_of_Notre_Dame\").show(2)"
   ]
  },
  {
   "cell_type": "code",
   "execution_count": 33,
   "id": "cf35bbc4-9a3d-418f-825b-0f3793d40fcd",
   "metadata": {},
   "outputs": [
    {
     "name": "stdout",
     "output_type": "stream",
     "text": [
      "+---+-----+-------+--------+-------+\n",
      "| id|title|context|question|answers|\n",
      "+---+-----+-------+--------+-------+\n",
      "+---+-----+-------+--------+-------+\n",
      "\n"
     ]
    }
   ],
   "source": [
    "df.where(F.col(\"title\") == \"University_of_Notre_Dame\").where(F.col(\"title\") != \"University_of_Notre_Dame\").show(2)"
   ]
  },
  {
   "cell_type": "code",
   "execution_count": 34,
   "id": "8bee517f-4e90-451f-b6b9-0c0e7f4990da",
   "metadata": {},
   "outputs": [
    {
     "data": {
      "text/plain": [
       "87599"
      ]
     },
     "execution_count": 34,
     "metadata": {},
     "output_type": "execute_result"
    }
   ],
   "source": [
    "df.select(\"title\", \"id\").distinct().count()"
   ]
  },
  {
   "cell_type": "code",
   "execution_count": 35,
   "id": "84cacc26-6b71-47bd-a06f-f05aae45eef2",
   "metadata": {},
   "outputs": [
    {
     "data": {
      "text/plain": [
       "43954"
      ]
     },
     "execution_count": 35,
     "metadata": {},
     "output_type": "execute_result"
    }
   ],
   "source": [
    "seed = 5\n",
    "withReplacement = False\n",
    "fraction = 0.5\n",
    "df.sample(withReplacement, fraction, seed).count()\n"
   ]
  },
  {
   "cell_type": "code",
   "execution_count": null,
   "id": "3f2443c0-7f11-46b7-9bf1-de563151a2bb",
   "metadata": {},
   "outputs": [],
   "source": []
  },
  {
   "cell_type": "code",
   "execution_count": null,
   "id": "de7fe86a-7680-4806-94aa-67b0dec6c325",
   "metadata": {},
   "outputs": [],
   "source": []
  },
  {
   "cell_type": "code",
   "execution_count": null,
   "id": "12d8505a-c1f5-4352-80ab-7da1b0435d06",
   "metadata": {},
   "outputs": [],
   "source": []
  },
  {
   "cell_type": "code",
   "execution_count": null,
   "id": "626b8cdd-7ef2-41d0-87ec-83792737fac7",
   "metadata": {},
   "outputs": [],
   "source": [
    "df2 = df.groupby(\"title\").agg(F.count(\"id\").alias(\"count\"), F.collect_list(\"id\").alias(\"ids\"))"
   ]
  },
  {
   "cell_type": "code",
   "execution_count": null,
   "id": "fde753cd-ef10-42f9-b2d6-fe500e29334d",
   "metadata": {},
   "outputs": [],
   "source": [
    "df2.persist()"
   ]
  },
  {
   "cell_type": "code",
   "execution_count": null,
   "id": "76c7ded7-5c6b-4ba4-aea1-39dbe4ff50ae",
   "metadata": {},
   "outputs": [],
   "source": [
    "df2.filter(F.col(\"count\") < 25).head()"
   ]
  },
  {
   "cell_type": "code",
   "execution_count": null,
   "id": "25c463ba-d22b-43bc-b172-077a280451cf",
   "metadata": {},
   "outputs": [],
   "source": [
    "x = df2.collect()"
   ]
  },
  {
   "cell_type": "code",
   "execution_count": null,
   "id": "30612c35-74ca-46d4-b42e-e57e4c649086",
   "metadata": {},
   "outputs": [],
   "source": [
    "df.groupby(\"title\").agg(F.count(\"id\").alias(\"count\"), F.collect_set(\"id\").alias(\"ids\")).filter(F.col(\"count\") < 25).head(10)\n"
   ]
  },
  {
   "cell_type": "code",
   "execution_count": null,
   "id": "002243b3-b55a-4c45-bc53-068d242e28ca",
   "metadata": {},
   "outputs": [],
   "source": [
    "# register df a temp view to query it with sql\n",
    "df.createTempView(\"table\")"
   ]
  },
  {
   "cell_type": "code",
   "execution_count": null,
   "id": "d39494d0-99c3-4cd4-a017-5f0a7cbadc69",
   "metadata": {},
   "outputs": [],
   "source": [
    "spark.sql(\n",
    "\"\"\"\n",
    "SELECT count(id) as count, collect_list(id) as ids\n",
    "FROM table\n",
    "GROUP BY title\n",
    "HAVING count < 25\n",
    "\"\"\"\n",
    ").head(10)"
   ]
  },
  {
   "cell_type": "code",
   "execution_count": null,
   "id": "a340832e-7453-4066-bd34-6b2cd1865d67",
   "metadata": {},
   "outputs": [],
   "source": [
    "spark.sql(\n",
    "\"\"\"\n",
    "WITH temp AS\n",
    "(SELECT count(id) as count, collect_list(id) as ids\n",
    "FROM table\n",
    "GROUP BY title\n",
    ")\n",
    "SELECT *\n",
    "FROM temp\n",
    "WHERE count < 25\n",
    "\"\"\"\n",
    ").head(10)"
   ]
  },
  {
   "cell_type": "code",
   "execution_count": null,
   "id": "1a740409-1ed8-4b8e-a7f1-f43187405800",
   "metadata": {},
   "outputs": [],
   "source": []
  },
  {
   "cell_type": "code",
   "execution_count": null,
   "id": "d13915b3-1eba-4567-8e2f-859af94ad80b",
   "metadata": {},
   "outputs": [],
   "source": []
  }
 ],
 "metadata": {
  "kernelspec": {
   "display_name": "Python 3 (ipykernel)",
   "language": "python",
   "name": "python3"
  },
  "language_info": {
   "codemirror_mode": {
    "name": "ipython",
    "version": 3
   },
   "file_extension": ".py",
   "mimetype": "text/x-python",
   "name": "python",
   "nbconvert_exporter": "python",
   "pygments_lexer": "ipython3",
   "version": "3.10.6"
  }
 },
 "nbformat": 4,
 "nbformat_minor": 5
}
