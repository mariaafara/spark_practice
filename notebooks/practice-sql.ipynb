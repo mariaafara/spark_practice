{
 "cells": [
  {
   "cell_type": "markdown",
   "id": "54fbefab-289d-427e-961f-93587b3069ef",
   "metadata": {},
   "source": [
    "# Practice Writing SQL Queries using Real Dataset with SPARK"
   ]
  },
  {
   "cell_type": "markdown",
   "id": "1e9eb2d8-7db3-48e6-9150-dd0773683923",
   "metadata": {
    "tags": []
   },
   "source": [
    "#### Download Data from Kaggle:\n",
    "FROM HERE(https://www.kaggle.com/datasets/heesoo37/120-years-of-olympic-history-athletes-and-results)"
   ]
  },
  {
   "cell_type": "markdown",
   "id": "81ff32f9-26e1-4294-897f-9b78a907497a",
   "metadata": {},
   "source": [
    "List of the functions/operators used in this practice are:\n",
    "- JOIN\n",
    "- LEFT/RIGHT JOIN\n",
    "- IN \n",
    "- DENSE_RANK\n",
    "- PARTITION BY\n",
    "- ...\n",
    "\n"
   ]
  },
  {
   "cell_type": "code",
   "execution_count": 1,
   "id": "8726e04f-ccb9-4c06-bdae-3b3258b3586f",
   "metadata": {},
   "outputs": [],
   "source": [
    "from pyspark import SparkConf\n",
    "from pyspark.sql import SparkSession\n",
    "\n",
    "session_conf = (\n",
    "    SparkConf()\n",
    "    .setAppName(\"Practice SQL\")\n",
    "    .setMaster(\"local[1]\")\n",
    ")\n",
    "\n",
    "spark = (\n",
    "    SparkSession.builder\n",
    "    .config(conf=session_conf)\n",
    "    .getOrCreate()\n",
    ")"
   ]
  },
  {
   "cell_type": "code",
   "execution_count": 3,
   "id": "8ffa0a74-264a-47bd-83ef-7985dab5ce6d",
   "metadata": {},
   "outputs": [
    {
     "data": {
      "text/html": [
       "\n",
       "            <div>\n",
       "                <p><b>SparkSession - in-memory</b></p>\n",
       "                \n",
       "        <div>\n",
       "            <p><b>SparkContext</b></p>\n",
       "\n",
       "            <p><a href=\"http://6cf75da6038d:4040\">Spark UI</a></p>\n",
       "\n",
       "            <dl>\n",
       "              <dt>Version</dt>\n",
       "                <dd><code>v3.3.0</code></dd>\n",
       "              <dt>Master</dt>\n",
       "                <dd><code>local[1]</code></dd>\n",
       "              <dt>AppName</dt>\n",
       "                <dd><code>Practice SQL</code></dd>\n",
       "            </dl>\n",
       "        </div>\n",
       "        \n",
       "            </div>\n",
       "        "
      ],
      "text/plain": [
       "<pyspark.sql.session.SparkSession at 0xffff8e216fe0>"
      ]
     },
     "execution_count": 3,
     "metadata": {},
     "output_type": "execute_result"
    }
   ],
   "source": [
    "spark"
   ]
  },
  {
   "cell_type": "markdown",
   "id": "a28091cd-9029-473d-8b33-ab8af5c5c2b5",
   "metadata": {},
   "source": [
    "Data from athlete_events file. We load this data into a table named “OLYMPICS_HISTORY”."
   ]
  },
  {
   "cell_type": "code",
   "execution_count": 163,
   "id": "de10b1f3-36cc-47f7-82db-27507a97211b",
   "metadata": {},
   "outputs": [],
   "source": [
    "athlete_eventsDataFrame = spark.read.format(\"csv\")\\\n",
    ".option(\"header\", \"true\")\\\n",
    ".option(\"inferSchema\", \"true\")\\\n",
    ".option(\"quote\", \"\\\"\")\\\n",
    ".option(\"escape\", \"\\\"\")\\\n",
    ".load(\"mydata/dataset-sql-practice/athlete_events.csv\")"
   ]
  },
  {
   "cell_type": "code",
   "execution_count": 164,
   "id": "629e0088-776a-42c8-96f6-6b3b3811517b",
   "metadata": {},
   "outputs": [
    {
     "name": "stdout",
     "output_type": "stream",
     "text": [
      "+---+--------------------+---+---+------+------+--------------+---+-----------+----+------+---------+-------------+--------------------+-----+\n",
      "| ID|                Name|Sex|Age|Height|Weight|          Team|NOC|      Games|Year|Season|     City|        Sport|               Event|Medal|\n",
      "+---+--------------------+---+---+------+------+--------------+---+-----------+----+------+---------+-------------+--------------------+-----+\n",
      "|  1|           A Dijiang|  M| 24|   180|    80|         China|CHN|1992 Summer|1992|Summer|Barcelona|   Basketball|Basketball Men's ...|   NA|\n",
      "|  2|            A Lamusi|  M| 23|   170|    60|         China|CHN|2012 Summer|2012|Summer|   London|         Judo|Judo Men's Extra-...|   NA|\n",
      "|  3| Gunnar Nielsen Aaby|  M| 24|    NA|    NA|       Denmark|DEN|1920 Summer|1920|Summer|Antwerpen|     Football|Football Men's Fo...|   NA|\n",
      "|  4|Edgar Lindenau Aabye|  M| 34|    NA|    NA|Denmark/Sweden|DEN|1900 Summer|1900|Summer|    Paris|   Tug-Of-War|Tug-Of-War Men's ...| Gold|\n",
      "|  5|Christine Jacoba ...|  F| 21|   185|    82|   Netherlands|NED|1988 Winter|1988|Winter|  Calgary|Speed Skating|Speed Skating Wom...|   NA|\n",
      "+---+--------------------+---+---+------+------+--------------+---+-----------+----+------+---------+-------------+--------------------+-----+\n",
      "only showing top 5 rows\n",
      "\n"
     ]
    }
   ],
   "source": [
    "athlete_eventsDataFrame.show(5)"
   ]
  },
  {
   "cell_type": "code",
   "execution_count": 165,
   "id": "c57ea03f-9591-4301-8e60-eaa45d93f83d",
   "metadata": {},
   "outputs": [],
   "source": [
    "athlete_eventsDataFrame.createOrReplaceTempView(\"OLYMPICS_HISTORY\")"
   ]
  },
  {
   "cell_type": "code",
   "execution_count": 166,
   "id": "99d62e78-5fc2-4d12-a3eb-7aa8dea931cc",
   "metadata": {},
   "outputs": [
    {
     "name": "stdout",
     "output_type": "stream",
     "text": [
      "+--------+\n",
      "|count(1)|\n",
      "+--------+\n",
      "|  271116|\n",
      "+--------+\n",
      "\n"
     ]
    }
   ],
   "source": [
    "spark.sql(\"\"\"\n",
    "SELECT count(*)\n",
    "From OLYMPICS_HISTORY\n",
    "\"\"\").show()"
   ]
  },
  {
   "cell_type": "markdown",
   "id": "13cd3ced-54ec-41db-9f46-72796dc84ebd",
   "metadata": {},
   "source": [
    "Data from noc_regions file. We load this data into a table named “OLYMPICS_HISTORY_NOC_REGIONS”."
   ]
  },
  {
   "cell_type": "code",
   "execution_count": 7,
   "id": "d4cac841-6aef-465f-b102-674f78baf9cc",
   "metadata": {},
   "outputs": [],
   "source": [
    "noc_regionsDataFrame = spark.read.format(\"csv\")\\\n",
    ".option(\"header\", \"true\")\\\n",
    ".option(\"inferSchema\", \"true\")\\\n",
    ".load(\"mydata/dataset-sql-practice/noc_regions.csv\")"
   ]
  },
  {
   "cell_type": "code",
   "execution_count": 8,
   "id": "e3cc07ef-7270-4a59-9114-fc036b5d4d14",
   "metadata": {},
   "outputs": [
    {
     "name": "stdout",
     "output_type": "stream",
     "text": [
      "+---+-----------+--------------------+\n",
      "|NOC|     region|               notes|\n",
      "+---+-----------+--------------------+\n",
      "|AFG|Afghanistan|                null|\n",
      "|AHO|    Curacao|Netherlands Antilles|\n",
      "|ALB|    Albania|                null|\n",
      "|ALG|    Algeria|                null|\n",
      "|AND|    Andorra|                null|\n",
      "+---+-----------+--------------------+\n",
      "only showing top 5 rows\n",
      "\n"
     ]
    }
   ],
   "source": [
    "noc_regionsDataFrame.show(5)"
   ]
  },
  {
   "cell_type": "code",
   "execution_count": 9,
   "id": "45d55db8-d085-4657-881f-d50ee4305091",
   "metadata": {},
   "outputs": [],
   "source": [
    "noc_regionsDataFrame.createOrReplaceTempView(\"OLYMPICS_HISTORY_NOC_REGION\")"
   ]
  },
  {
   "cell_type": "code",
   "execution_count": 10,
   "id": "177eccd6-4db6-41d2-91ab-8f28fe29e042",
   "metadata": {},
   "outputs": [
    {
     "data": {
      "text/plain": [
       "[Row(namespace='default')]"
      ]
     },
     "execution_count": 10,
     "metadata": {},
     "output_type": "execute_result"
    }
   ],
   "source": [
    "spark.sql(\"show databases;\").collect()"
   ]
  },
  {
   "cell_type": "code",
   "execution_count": 11,
   "id": "7377d452-86dd-4cc0-8c81-d2f2551a5f10",
   "metadata": {},
   "outputs": [
    {
     "data": {
      "text/plain": [
       "[Row(namespace='', tableName='olympics_history', isTemporary=True),\n",
       " Row(namespace='', tableName='olympics_history_noc_region', isTemporary=True)]"
      ]
     },
     "execution_count": 11,
     "metadata": {},
     "output_type": "execute_result"
    }
   ],
   "source": [
    "spark.sql(\"show tables in default;\").collect()"
   ]
  },
  {
   "cell_type": "code",
   "execution_count": 12,
   "id": "25219057-11fd-4f04-b09d-646a6df1f573",
   "metadata": {},
   "outputs": [
    {
     "name": "stdout",
     "output_type": "stream",
     "text": [
      "+---+-----------+-----+\n",
      "|NOC|     region|notes|\n",
      "+---+-----------+-----+\n",
      "|AFG|Afghanistan| null|\n",
      "+---+-----------+-----+\n",
      "only showing top 1 row\n",
      "\n"
     ]
    }
   ],
   "source": [
    "noc_regionsDataFrame.show(1)"
   ]
  },
  {
   "cell_type": "code",
   "execution_count": 13,
   "id": "3cbfe4f9-ebc1-4106-bc04-4f3168bbd125",
   "metadata": {},
   "outputs": [
    {
     "name": "stdout",
     "output_type": "stream",
     "text": [
      "+---+---------+---+---+------+------+-----+---+-----------+----+------+---------+----------+--------------------+-----+\n",
      "| ID|     Name|Sex|Age|Height|Weight| Team|NOC|      Games|Year|Season|     City|     Sport|               Event|Medal|\n",
      "+---+---------+---+---+------+------+-----+---+-----------+----+------+---------+----------+--------------------+-----+\n",
      "|  1|A Dijiang|  M| 24|   180|    80|China|CHN|1992 Summer|1992|Summer|Barcelona|Basketball|Basketball Men's ...|   NA|\n",
      "+---+---------+---+---+------+------+-----+---+-----------+----+------+---------+----------+--------------------+-----+\n",
      "only showing top 1 row\n",
      "\n"
     ]
    }
   ],
   "source": [
    "athlete_eventsDataFrame.show(1)"
   ]
  },
  {
   "cell_type": "markdown",
   "id": "7cf15f2a-df4c-44d8-87fb-dbcecbd5633e",
   "metadata": {},
   "source": [
    "### 1 How many olympics games have been held?"
   ]
  },
  {
   "cell_type": "code",
   "execution_count": 14,
   "id": "a039ffa4-4b2b-4115-837d-966b08aa1c8a",
   "metadata": {},
   "outputs": [
    {
     "name": "stdout",
     "output_type": "stream",
     "text": [
      "== Physical Plan ==\n",
      "AdaptiveSparkPlan isFinalPlan=false\n",
      "+- HashAggregate(keys=[], functions=[count(distinct games#25)])\n",
      "   +- Exchange SinglePartition, ENSURE_REQUIREMENTS, [id=#113]\n",
      "      +- HashAggregate(keys=[], functions=[partial_count(distinct games#25)])\n",
      "         +- HashAggregate(keys=[games#25], functions=[])\n",
      "            +- Exchange hashpartitioning(games#25, 200), ENSURE_REQUIREMENTS, [id=#109]\n",
      "               +- HashAggregate(keys=[games#25], functions=[])\n",
      "                  +- FileScan csv [Games#25] Batched: false, DataFilters: [], Format: CSV, Location: InMemoryFileIndex(1 paths)[file:/home/jovyan/work/mydata/dataset-sql-practice/athlete_events.csv], PartitionFilters: [], PushedFilters: [], ReadSchema: struct<Games:string>\n",
      "\n",
      "\n",
      "+-------------------+\n",
      "|total_olympic_games|\n",
      "+-------------------+\n",
      "|                 80|\n",
      "+-------------------+\n",
      "\n"
     ]
    }
   ],
   "source": [
    "total_olympic_games = spark.sql(\"\"\"\n",
    "SELECT count(distinct games) as total_olympic_games\n",
    "FROM olympics_history\n",
    "\"\"\")\n",
    "\n",
    "total_olympic_games.explain()\n",
    "total_olympic_games.show()"
   ]
  },
  {
   "cell_type": "markdown",
   "id": "62baec14-fa2c-4e21-ba17-6548bf676acb",
   "metadata": {
    "tags": []
   },
   "source": [
    "### 2 List down all Olympics games held so far."
   ]
  },
  {
   "cell_type": "code",
   "execution_count": 168,
   "id": "140bd02c-3bf0-454c-9a2e-23d2635d8603",
   "metadata": {},
   "outputs": [
    {
     "name": "stdout",
     "output_type": "stream",
     "text": [
      "== Physical Plan ==\n",
      "AdaptiveSparkPlan isFinalPlan=false\n",
      "+- Sort [year#2454 ASC NULLS FIRST], true, 0\n",
      "   +- Exchange rangepartitioning(year#2454 ASC NULLS FIRST, 200), ENSURE_REQUIREMENTS, [id=#8963]\n",
      "      +- HashAggregate(keys=[year#2454, season#2455, city#2456], functions=[])\n",
      "         +- Exchange hashpartitioning(year#2454, season#2455, city#2456, 200), ENSURE_REQUIREMENTS, [id=#8960]\n",
      "            +- HashAggregate(keys=[year#2454, season#2455, city#2456], functions=[])\n",
      "               +- FileScan csv [Year#2454,Season#2455,City#2456] Batched: false, DataFilters: [], Format: CSV, Location: InMemoryFileIndex(1 paths)[file:/home/jovyan/work/mydata/dataset-sql-practice/athlete_events.csv], PartitionFilters: [], PushedFilters: [], ReadSchema: struct<Year:int,Season:string,City:string>\n",
      "\n",
      "\n",
      "+----+------+--------------------+\n",
      "|year|season|                city|\n",
      "+----+------+--------------------+\n",
      "|1896|Summer|              Athina|\n",
      "|1900|Summer|               Paris|\n",
      "|1904|Summer|           St. Louis|\n",
      "|1906|Summer|              Athina|\n",
      "|1908|Summer|              London|\n",
      "|1912|Summer|           Stockholm|\n",
      "|1920|Summer|           Antwerpen|\n",
      "|1924|Summer|               Paris|\n",
      "|1924|Winter|            Chamonix|\n",
      "|1928|Summer|           Amsterdam|\n",
      "|1928|Winter|        Sankt Moritz|\n",
      "|1932|Winter|         Lake Placid|\n",
      "|1932|Summer|         Los Angeles|\n",
      "|1936|Summer|              Berlin|\n",
      "|1936|Winter|Garmisch-Partenki...|\n",
      "|1948|Summer|              London|\n",
      "|1948|Winter|        Sankt Moritz|\n",
      "|1952|Winter|                Oslo|\n",
      "|1952|Summer|            Helsinki|\n",
      "|1956|Winter|   Cortina d'Ampezzo|\n",
      "+----+------+--------------------+\n",
      "only showing top 20 rows\n",
      "\n"
     ]
    }
   ],
   "source": [
    "total_olympic_games = spark.sql(\"\"\"\n",
    "select distinct oh.year,oh.season,oh.city\n",
    "from olympics_history as oh\n",
    "order by year;\n",
    "\"\"\")\n",
    "\n",
    "total_olympic_games.explain()\n",
    "total_olympic_games.show()"
   ]
  },
  {
   "cell_type": "markdown",
   "id": "ffcb0bb6-2e7c-4289-a4c3-eb8c8024f06a",
   "metadata": {},
   "source": [
    "### 3 Mention the total no of nations who participated in each olympics game?"
   ]
  },
  {
   "cell_type": "code",
   "execution_count": 67,
   "id": "81b55099-c701-4562-9692-7a5c7c4c8ef1",
   "metadata": {},
   "outputs": [
    {
     "name": "stdout",
     "output_type": "stream",
     "text": [
      "+-----------+-----+\n",
      "|      Games|count|\n",
      "+-----------+-----+\n",
      "|1896 Summer|   12|\n",
      "|1900 Summer|   31|\n",
      "|1904 Summer|   14|\n",
      "|1906 Summer|   20|\n",
      "|1908 Summer|   22|\n",
      "|1912 Summer|   29|\n",
      "|1920 Summer|   29|\n",
      "|1924 Summer|   45|\n",
      "|1924 Winter|   19|\n",
      "|1928 Summer|   46|\n",
      "|1928 Winter|   25|\n",
      "|1932 Summer|   47|\n",
      "|1932 Winter|   17|\n",
      "|1936 Summer|   49|\n",
      "|1936 Winter|   28|\n",
      "|1948 Summer|   58|\n",
      "|1948 Winter|   28|\n",
      "|1952 Summer|   66|\n",
      "|1952 Winter|   30|\n",
      "|1956 Summer|   70|\n",
      "+-----------+-----+\n",
      "only showing top 20 rows\n",
      "\n"
     ]
    }
   ],
   "source": [
    "total_nb_nations_in_games = spark.sql(\"\"\"\n",
    "WITH nations_games AS\n",
    "(\n",
    "    SELECT distinct Games, region\n",
    "    FROM olympics_history as a\n",
    "        INNER JOIN OLYMPICS_HISTORY_NOC_REGION as b\n",
    "        ON a.NOC=b.NOC\n",
    ")\n",
    "SELECT Games, count(1) as count\n",
    "FROM nations_games\n",
    "GROUP BY Games\n",
    "ORDER BY Games\n",
    "\"\"\").show()"
   ]
  },
  {
   "cell_type": "markdown",
   "id": "0b39bad1-3f90-428b-93c4-2ef03bd1e679",
   "metadata": {},
   "source": [
    "### 4 Which year saw the highest and lowest no of countries participating in olympics?"
   ]
  },
  {
   "cell_type": "code",
   "execution_count": 169,
   "id": "df950a40-6347-4b3f-bffd-77c1cff094b2",
   "metadata": {},
   "outputs": [
    {
     "name": "stdout",
     "output_type": "stream",
     "text": [
      "+--------+--------+\n",
      "|max_year|min_year|\n",
      "+--------+--------+\n",
      "|    2016|    1896|\n",
      "+--------+--------+\n",
      "\n"
     ]
    }
   ],
   "source": [
    "max_min_nb_countries_game = spark.sql(\"\"\"\n",
    "WITH nations_games AS\n",
    "(\n",
    "    SELECT year, count(distinct region) as count\n",
    "    FROM olympics_history as a\n",
    "        INNER JOIN OLYMPICS_HISTORY_NOC_REGION as b\n",
    "        ON a.NOC=b.NOC\n",
    "    GROUP BY year\n",
    "),\n",
    "max_year AS\n",
    "(\n",
    "    SELECT year\n",
    "    FROM nations_games\n",
    "    WHERE count=(SELECT max(count) FROM nations_games)\n",
    "),\n",
    "min_year AS\n",
    "(\n",
    "    SELECT year\n",
    "    FROM nations_games\n",
    "    WHERE count=(SELECT min(count) FROM nations_games)\n",
    ")\n",
    "SELECT max_year.year as max_year, min_year.year as min_year\n",
    "FROM max_year join min_year\n",
    "\"\"\")\n",
    "\n",
    "# total_olympic_games.explain()\n",
    "max_min_nb_countries_game.show()"
   ]
  },
  {
   "cell_type": "markdown",
   "id": "cb007e26-aee8-4e56-b6cf-a6ca741e0792",
   "metadata": {},
   "source": [
    "## 5. Which nation has participated in all of the olympic games"
   ]
  },
  {
   "cell_type": "code",
   "execution_count": 68,
   "id": "a8346540-c84c-4fe5-9f1b-9485a818958b",
   "metadata": {},
   "outputs": [
    {
     "name": "stdout",
     "output_type": "stream",
     "text": [
      "+--------------+-----+\n",
      "|        region|count|\n",
      "+--------------+-----+\n",
      "|            UK|   51|\n",
      "|   Switzerland|   51|\n",
      "|        France|   51|\n",
      "|         Italy|   51|\n",
      "|           USA|   50|\n",
      "|       Austria|   50|\n",
      "|        Sweden|   50|\n",
      "|        Norway|   49|\n",
      "|       Hungary|   49|\n",
      "|        Canada|   49|\n",
      "|     Australia|   48|\n",
      "|       Finland|   48|\n",
      "|Czech Republic|   48|\n",
      "|        Greece|   47|\n",
      "|       Belgium|   47|\n",
      "|   Netherlands|   47|\n",
      "|       Germany|   46|\n",
      "|        Poland|   44|\n",
      "|     Argentina|   42|\n",
      "|         Spain|   42|\n",
      "+--------------+-----+\n",
      "only showing top 20 rows\n",
      "\n"
     ]
    }
   ],
   "source": [
    "spark.sql(\"\"\"\n",
    "WITH nations_games AS\n",
    "(\n",
    "    SELECT region, count(distinct Games) as count\n",
    "    FROM olympics_history as a\n",
    "        RIGHT JOIN OLYMPICS_HISTORY_NOC_REGION as b\n",
    "        ON a.NOC=b.NOC\n",
    "    GROUP BY region\n",
    ")\n",
    "SELECT region, count FROM nations_games WHERE count<(SELECT count(distinct year) from olympics_history) order by count desc\n",
    "\"\"\").show()"
   ]
  },
  {
   "cell_type": "markdown",
   "id": "51ac2076-dbe3-4443-8863-330a93c4b4d8",
   "metadata": {},
   "source": [
    "## Identify the sport which was played in all summer olympics."
   ]
  },
  {
   "cell_type": "markdown",
   "id": "87895d62-d4fa-442d-8891-bdfa4a939c4c",
   "metadata": {},
   "source": [
    "Logic: we want the sport which is played in summer and has count equal to the count of all unique summer games"
   ]
  },
  {
   "cell_type": "code",
   "execution_count": 103,
   "id": "b2b47688-bedb-4595-bd3f-7bfcc56581d7",
   "metadata": {},
   "outputs": [
    {
     "name": "stdout",
     "output_type": "stream",
     "text": [
      "+----------+----------+\n",
      "|     sport|count_game|\n",
      "+----------+----------+\n",
      "|Gymnastics|        29|\n",
      "|  Swimming|        29|\n",
      "| Athletics|        29|\n",
      "|   Cycling|        29|\n",
      "|   Fencing|        29|\n",
      "+----------+----------+\n",
      "\n"
     ]
    }
   ],
   "source": [
    "spark.sql(\"\"\"\n",
    "WITH summer_olympics_sports AS\n",
    "(\n",
    "    SELECT distinct year, season, sport \n",
    "    FROM olympics_history \n",
    "    where season==\"Summer\"\n",
    "    ORDER BY year\n",
    "),\n",
    "sport_count_game\n",
    "(\n",
    "SELECT sport, count(year,season) as count_game\n",
    "FROM summer_olympics_sports\n",
    "GROUP BY Sport\n",
    ")\n",
    "SELECT sport, count_game\n",
    "FROM sport_count_game\n",
    "WHERE count_game == (SELECT count(distinct year, season) from summer_olympics_sports)\n",
    "\"\"\").show()\n"
   ]
  },
  {
   "cell_type": "markdown",
   "id": "aa644b23-20c1-4790-b782-e7409d7c6ef9",
   "metadata": {},
   "source": [
    "## Which Sports were played only once in the olympics?"
   ]
  },
  {
   "cell_type": "code",
   "execution_count": 170,
   "id": "446f2a77-a067-452b-ab55-dcd9d076ce27",
   "metadata": {},
   "outputs": [
    {
     "name": "stdout",
     "output_type": "stream",
     "text": [
      "+-------------------+-----------+-----------+\n",
      "|              sport|count_games|      games|\n",
      "+-------------------+-----------+-----------+\n",
      "|            Croquet|          1|1900 Summer|\n",
      "|           Racquets|          1|1908 Summer|\n",
      "|        Aeronautics|          1|1936 Summer|\n",
      "|      Basque Pelota|          1|1900 Summer|\n",
      "|       Rugby Sevens|          1|2016 Summer|\n",
      "|              Roque|          1|1904 Summer|\n",
      "|            Cricket|          1|1900 Summer|\n",
      "|Military Ski Patrol|          1|1924 Winter|\n",
      "|       Jeu De Paume|          1|1908 Summer|\n",
      "|       Motorboating|          1|1908 Summer|\n",
      "+-------------------+-----------+-----------+\n",
      "\n"
     ]
    }
   ],
   "source": [
    "spark.sql(\"\"\"\n",
    "WITH sport_games_table AS\n",
    "(\n",
    "    SELECT distinct sport, games\n",
    "    FROM olympics_history\n",
    "),\n",
    "count_games_table AS\n",
    "(\n",
    "    SELECT sport, count(games) as count_games\n",
    "    FROM sport_games_table\n",
    "    GROUP BY sport\n",
    ")\n",
    "SELECT count_games_table.sport, count_games, sport_games_table.games\n",
    "FROM count_games_table\n",
    "join sport_games_table on sport_games_table.sport=count_games_table.sport\n",
    "WHERE count_games_table.count_games=1\n",
    "\"\"\").show()"
   ]
  },
  {
   "cell_type": "markdown",
   "id": "c646a72f-2cd0-44be-8d0c-d99ab16a0765",
   "metadata": {},
   "source": [
    "## Fetch the total no of sports played in each olympic games."
   ]
  },
  {
   "cell_type": "code",
   "execution_count": 134,
   "id": "60977232-7664-4d01-8172-b6473e299c79",
   "metadata": {},
   "outputs": [
    {
     "name": "stdout",
     "output_type": "stream",
     "text": [
      "+-----------+-----------+\n",
      "|      games|count_sport|\n",
      "+-----------+-----------+\n",
      "|        USA|         40|\n",
      "|2008 Summer|         34|\n",
      "|2004 Summer|         34|\n",
      "|2000 Summer|         34|\n",
      "|2016 Summer|         34|\n",
      "|2012 Summer|         32|\n",
      "|1996 Summer|         31|\n",
      "|1992 Summer|         29|\n",
      "|1988 Summer|         27|\n",
      "|1984 Summer|         25|\n",
      "|1920 Summer|         25|\n",
      "|1908 Summer|         24|\n",
      "|1936 Summer|         24|\n",
      "|1976 Summer|         23|\n",
      "|1972 Summer|         23|\n",
      "|1980 Summer|         23|\n",
      "|1964 Summer|         21|\n",
      "|1968 Summer|         20|\n",
      "|1900 Summer|         20|\n",
      "|1948 Summer|         20|\n",
      "+-----------+-----------+\n",
      "only showing top 20 rows\n",
      "\n"
     ]
    }
   ],
   "source": [
    "spark.sql(\"\"\"\n",
    "SELECT games, count(distinct sport) as count_sport\n",
    "FROM olympics_history\n",
    "GROUP BY games\n",
    "SORT BY count_sport desc\n",
    "\"\"\").show()"
   ]
  },
  {
   "cell_type": "markdown",
   "id": "9bfc087b-3549-4fc8-baaa-cf5877816f58",
   "metadata": {},
   "source": [
    "## Fetch details of the oldest athletes to win a gold medal."
   ]
  },
  {
   "cell_type": "code",
   "execution_count": 154,
   "id": "4ae9e323-a516-42b8-8a42-7fa5ae1dd433",
   "metadata": {},
   "outputs": [
    {
     "name": "stdout",
     "output_type": "stream",
     "text": [
      "+------+-----------------+---+---+------+------+-------------+---+-----------+----+------+---------+--------+--------------------+-----+\n",
      "|    ID|             Name|Sex|Age|Height|Weight|         Team|NOC|      Games|Year|Season|     City|   Sport|               Event|Medal|\n",
      "+------+-----------------+---+---+------+------+-------------+---+-----------+----+------+---------+--------+--------------------+-----+\n",
      "| 53238|  Charles Jacobus|  M| 64|    NA|    NA|United States|USA|1904 Summer|1904|Summer|St. Louis|   Roque| Roque Men's Singles| Gold|\n",
      "|117046|Oscar Gomer Swahn|  M| 64|    NA|    NA|       Sweden|SWE|1912 Summer|1912|Summer|Stockholm|Shooting|Shooting Men's Ru...| Gold|\n",
      "+------+-----------------+---+---+------+------+-------------+---+-----------+----+------+---------+--------+--------------------+-----+\n",
      "\n"
     ]
    }
   ],
   "source": [
    "spark.sql(\"\"\"\n",
    "WITH gold_medal_winner AS\n",
    "(\n",
    "    SELECT *\n",
    "    FROM olympics_history\n",
    "    WHERE medal==\"Gold\" and age!=\"NA\"\n",
    "    SORT BY age desc\n",
    ")\n",
    "SELECT gold_medal_winner.* \n",
    "FROM gold_medal_winner\n",
    "Where age == (SELECT max(age) from gold_medal_winner)\n",
    "\n",
    "\"\"\").show()"
   ]
  },
  {
   "cell_type": "markdown",
   "id": "15352682-9fdf-41fb-8979-bef0cae77671",
   "metadata": {},
   "source": [
    "## Find the Ratio of male and female athletes participated in all olympic games."
   ]
  },
  {
   "cell_type": "code",
   "execution_count": 155,
   "id": "f75ec50b-3c37-4723-9572-7d4a3b567a19",
   "metadata": {},
   "outputs": [
    {
     "name": "stdout",
     "output_type": "stream",
     "text": [
      "+------------------+------------------+\n",
      "|        male_ratio|      female_ratio|\n",
      "+------------------+------------------+\n",
      "|0.7232549904837782|0.2742626772304106|\n",
      "+------------------+------------------+\n",
      "\n"
     ]
    }
   ],
   "source": [
    "spark.sql(\"\"\"\n",
    "SELECT sum(case when `SEX` = 'M' then 1 else 0 end)/count(*) as male_ratio,\n",
    "       sum(case when `SEX` = 'F' then 1 else 0 end)/count(*) as female_ratio\n",
    "FROM olympics_history\n",
    "\"\"\").show()"
   ]
  },
  {
   "cell_type": "markdown",
   "id": "3cce08b9-c7d3-4f23-945f-b814bce39172",
   "metadata": {},
   "source": [
    "### Fetch the top 5 athletes who have won the most gold medals."
   ]
  },
  {
   "cell_type": "code",
   "execution_count": 119,
   "id": "acea0fb9-8b9d-4506-8f6a-fd8b5e89bf7b",
   "metadata": {},
   "outputs": [
    {
     "name": "stdout",
     "output_type": "stream",
     "text": [
      "+--------------------+--------------+--------------------+\n",
      "|                name|          team|athlete_medals_count|\n",
      "+--------------------+--------------+--------------------+\n",
      "|Michael Fred Phel...| United States|                  23|\n",
      "|\"Raymond Clarence...| United States|                  10|\n",
      "|   Mark Andrew Spitz| United States|                   9|\n",
      "|\"Frederick Carlto...| United States|                   9|\n",
      "|Larysa Semenivna ...|  Soviet Union|                   9|\n",
      "|Paavo Johannes Nurmi|       Finland|                   9|\n",
      "|  Usain St. Leo Bolt|       Jamaica|                   8|\n",
      "|\"Matthew Nicholas...| United States|                   8|\n",
      "|\"Jennifer Elisabe...| United States|                   8|\n",
      "|          Sawao Kato|         Japan|                   8|\n",
      "| Ole Einar Bjrndalen|        Norway|                   8|\n",
      "|\"Donald Arthur \"\"...| United States|                   7|\n",
      "|Vra slavsk (-Odlo...|Czechoslovakia|                   7|\n",
      "|Viktor Ivanovych ...|  Soviet Union|                   7|\n",
      "|Aladr Gerevich (-...|       Hungary|                   7|\n",
      "|Nikolay Yefimovic...|  Soviet Union|                   7|\n",
      "|Borys Anfiyanovyc...|  Soviet Union|                   7|\n",
      "+--------------------+--------------+--------------------+\n",
      "\n"
     ]
    }
   ],
   "source": [
    "spark.sql(\"\"\"\n",
    "WITH athlete_medals_count_table AS\n",
    "(\n",
    "    SELECT name, team, count(medal) as athlete_medals_count\n",
    "    FROM olympics_history\n",
    "    WHERE medal=\"Gold\"\n",
    "    GROUP BY name, team\n",
    "    Order by athlete_medals_count desc\n",
    "),\n",
    "top_5_won_medal_table AS\n",
    "(\n",
    "    SELECT distinct athlete_medals_count\n",
    "    FROM athlete_medals_count_table\n",
    "    ORDER by athlete_medals_count DESC\n",
    "    LIMIT 5\n",
    ")\n",
    "SELECT * \n",
    "FROM athlete_medals_count_table\n",
    "WHERE athlete_medals_count IN(\n",
    "        SELECT athlete_medals_count \n",
    "        FROM top_5_won_medal_table \n",
    "        )\n",
    "ORDER BY athlete_medals_count desc\n",
    "\"\"\").show()\n",
    "\n"
   ]
  },
  {
   "cell_type": "markdown",
   "id": "90065295-5593-49b2-86ba-da0c20c85180",
   "metadata": {},
   "source": [
    "### Fetch the top 5 athletes who have won the most medals (gold/silver/bronze).\n",
    "Plus: create a rank"
   ]
  },
  {
   "cell_type": "code",
   "execution_count": 148,
   "id": "eeaeb8be-bec3-4151-adff-a7513a91106a",
   "metadata": {},
   "outputs": [
    {
     "name": "stdout",
     "output_type": "stream",
     "text": [
      "+------+--------------------+-------------+--------------------+----+\n",
      "|    ID|                name|         team|athlete_medals_count|Rank|\n",
      "+------+--------------------+-------------+--------------------+----+\n",
      "| 94406|Michael Fred Phel...|United States|                  28|   1|\n",
      "| 67046|Larysa Semenivna ...| Soviet Union|                  18|   2|\n",
      "|  4198|Nikolay Yefimovic...| Soviet Union|                  15|   3|\n",
      "| 11951| Ole Einar Bjrndalen|       Norway|                  13|   4|\n",
      "| 74420| Edoardo Mangiarotti|        Italy|                  13|   4|\n",
      "|109161|Borys Anfiyanovyc...| Soviet Union|                  13|   4|\n",
      "| 89187|         Takashi Ono|        Japan|                  13|   4|\n",
      "| 23426|Natalie Anne Coug...|United States|                  12|   5|\n",
      "| 85286|Aleksey Yuryevich...|       Russia|                  12|   5|\n",
      "| 87390|Paavo Johannes Nurmi|      Finland|                  12|   5|\n",
      "| 57998|          Sawao Kato|        Japan|                  12|   5|\n",
      "|119922|\"Jennifer Elisabe...|United States|                  12|   5|\n",
      "|121258|Dara Grace Torres...|United States|                  12|   5|\n",
      "| 70965|  Ryan Steven Lochte|United States|                  12|   5|\n",
      "+------+--------------------+-------------+--------------------+----+\n",
      "\n"
     ]
    }
   ],
   "source": [
    "#  with ranking\n",
    "spark.sql(\"\"\"\n",
    "WITH athlete_medals_count_table AS\n",
    "(\n",
    "    SELECT ID, name, team, count(medal) as athlete_medals_count\n",
    "    FROM olympics_history\n",
    "    WHERE medal In(\"Silver\", \"Gold\", \"Bronze\")\n",
    "    GROUP BY ID,name, team\n",
    "    Order by athlete_medals_count desc\n",
    "),\n",
    "top_5_won_medal_table AS\n",
    "(\n",
    "    SELECT distinct athlete_medals_count\n",
    "    FROM athlete_medals_count_table\n",
    "    ORDER by athlete_medals_count DESC\n",
    "    LIMIT 5\n",
    "),\n",
    "top_5_athletes_table AS\n",
    "(\n",
    "    SELECT * \n",
    "    FROM athlete_medals_count_table\n",
    "    WHERE athlete_medals_count IN(\n",
    "            SELECT athlete_medals_count \n",
    "            FROM top_5_won_medal_table \n",
    "            )\n",
    ")\n",
    "SELECT t.ID, t.name, t.team, athlete_medals_count, DENSE_RANK() OVER(ORDER BY t.athlete_medals_count DESC) as Rank\n",
    "FROM top_5_athletes_table t\n",
    "\"\"\").show()\n",
    "\n"
   ]
  },
  {
   "cell_type": "code",
   "execution_count": 149,
   "id": "999474f1-3183-4e13-889d-3134700a1984",
   "metadata": {},
   "outputs": [
    {
     "name": "stdout",
     "output_type": "stream",
     "text": [
      "+------+--------------------+-------------+--------------------+----+\n",
      "|    ID|                name|         team|athlete_medals_count|Rank|\n",
      "+------+--------------------+-------------+--------------------+----+\n",
      "| 94406|Michael Fred Phel...|United States|                  28|   1|\n",
      "| 67046|Larysa Semenivna ...| Soviet Union|                  18|   2|\n",
      "|  4198|Nikolay Yefimovic...| Soviet Union|                  15|   3|\n",
      "| 11951| Ole Einar Bjrndalen|       Norway|                  13|   4|\n",
      "| 74420| Edoardo Mangiarotti|        Italy|                  13|   5|\n",
      "|109161|Borys Anfiyanovyc...| Soviet Union|                  13|   6|\n",
      "| 89187|         Takashi Ono|        Japan|                  13|   7|\n",
      "| 23426|Natalie Anne Coug...|United States|                  12|   8|\n",
      "| 85286|Aleksey Yuryevich...|       Russia|                  12|   9|\n",
      "| 87390|Paavo Johannes Nurmi|      Finland|                  12|  10|\n",
      "| 57998|          Sawao Kato|        Japan|                  12|  11|\n",
      "|119922|\"Jennifer Elisabe...|United States|                  12|  12|\n",
      "|121258|Dara Grace Torres...|United States|                  12|  13|\n",
      "| 70965|  Ryan Steven Lochte|United States|                  12|  14|\n",
      "+------+--------------------+-------------+--------------------+----+\n",
      "\n"
     ]
    }
   ],
   "source": [
    "# using row_number\n",
    "spark.sql(\"\"\"\n",
    "WITH athlete_medals_count_table AS\n",
    "(\n",
    "    SELECT ID, name, team, count(medal) as athlete_medals_count\n",
    "    FROM olympics_history\n",
    "    WHERE medal In(\"Silver\", \"Gold\", \"Bronze\")\n",
    "    GROUP BY ID,name, team\n",
    "    Order by athlete_medals_count desc\n",
    "),\n",
    "top_5_won_medal_table AS\n",
    "(\n",
    "    SELECT distinct athlete_medals_count\n",
    "    FROM athlete_medals_count_table\n",
    "    ORDER by athlete_medals_count DESC\n",
    "    LIMIT 5\n",
    "),\n",
    "top_5_athletes_table AS\n",
    "(\n",
    "    SELECT * \n",
    "    FROM athlete_medals_count_table\n",
    "    WHERE athlete_medals_count IN(\n",
    "            SELECT athlete_medals_count \n",
    "            FROM top_5_won_medal_table \n",
    "            )\n",
    ")\n",
    "SELECT t.ID, t.name, t.team, athlete_medals_count, ROW_NUMBER() OVER(ORDER BY t.athlete_medals_count DESC) as Rank\n",
    "FROM top_5_athletes_table t\n",
    "\"\"\").show()\n",
    "\n"
   ]
  },
  {
   "cell_type": "markdown",
   "id": "53880137-ae1f-4312-bbdc-1b857c71f2d4",
   "metadata": {},
   "source": [
    "### Fetch the top 5 most successful countries in olympics. Success is defined by no of medals won."
   ]
  },
  {
   "cell_type": "code",
   "execution_count": 150,
   "id": "d8b28b03-26b2-4db3-98ef-18e6e735a4a2",
   "metadata": {},
   "outputs": [
    {
     "name": "stdout",
     "output_type": "stream",
     "text": [
      "+-------+---+----------------+----+\n",
      "| Region|NOC|noc_medals_count|Rank|\n",
      "+-------+---+----------------+----+\n",
      "|    USA|USA|            5437|   1|\n",
      "| Russia|URS|            2502|   2|\n",
      "|Germany|GER|            2162|   3|\n",
      "|     UK|GBR|            2066|   4|\n",
      "| France|FRA|            1777|   5|\n",
      "+-------+---+----------------+----+\n",
      "\n"
     ]
    }
   ],
   "source": [
    "spark.sql(\"\"\"\n",
    "WITH winning_noc_table AS\n",
    "(\n",
    "    SELECT NOC, count(medal) as noc_medals_count\n",
    "    FROM olympics_history\n",
    "    WHERE medal != \"NA\"\n",
    "    GROUP BY NOC\n",
    "),\n",
    "top_5_winners_table AS\n",
    "(\n",
    "    SELECT distinct NOC, noc_medals_count\n",
    "    FROM winning_noc_table\n",
    "    ORDER BY noc_medals_count desc\n",
    "    LIMIT 5\n",
    ")\n",
    "SELECT Region, top_5_winners_table.NOC, noc_medals_count, DENSE_RANK() OVER(ORDER BY noc_medals_count DESC) as Rank\n",
    "FROM OLYMPICS_HISTORY_NOC_REGION\n",
    "RIGHT JOIN top_5_winners_table on top_5_winners_table.NOC==OLYMPICS_HISTORY_NOC_REGION.NOC\n",
    "\n",
    "\"\"\").show()\n",
    "\n"
   ]
  },
  {
   "cell_type": "markdown",
   "id": "57688564-90c8-4887-b7c5-64d7270bea6a",
   "metadata": {},
   "source": [
    "### List down total gold, silver and bronze medals won by each country."
   ]
  },
  {
   "cell_type": "code",
   "execution_count": 211,
   "id": "adab6ef6-95ff-4c40-b161-26bc864784d4",
   "metadata": {},
   "outputs": [
    {
     "name": "stdout",
     "output_type": "stream",
     "text": [
      "+---+-----------+------+-----------+----+\n",
      "|NOC|     region| medal|medal_count|Rank|\n",
      "+---+-----------+------+-----------+----+\n",
      "|SGP|       null|Bronze|          4|   1|\n",
      "|SGP|       null|Silver|          4|   1|\n",
      "|SGP|       null|  Gold|          1|   3|\n",
      "|AFG|Afghanistan|Bronze|          2|   1|\n",
      "|ALG|    Algeria|Bronze|          8|   1|\n",
      "|ALG|    Algeria|  Gold|          5|   2|\n",
      "|ALG|    Algeria|Silver|          4|   3|\n",
      "|ARG|  Argentina|Silver|         92|   1|\n",
      "|ARG|  Argentina|Bronze|         91|   2|\n",
      "|ARG|  Argentina|  Gold|         91|   2|\n",
      "|ARM|    Armenia|Bronze|          9|   1|\n",
      "|ARM|    Armenia|Silver|          5|   2|\n",
      "|ARM|    Armenia|  Gold|          2|   3|\n",
      "|AUS|  Australia|Bronze|        517|   1|\n",
      "|AUS|  Australia|Silver|        455|   2|\n",
      "|AUS|  Australia|  Gold|        348|   3|\n",
      "|ANZ|  Australia|  Gold|         20|   4|\n",
      "|ANZ|  Australia|Bronze|          5|   5|\n",
      "|ANZ|  Australia|Silver|          4|   6|\n",
      "|AUT|    Austria|Silver|        186|   1|\n",
      "+---+-----------+------+-----------+----+\n",
      "only showing top 20 rows\n",
      "\n"
     ]
    }
   ],
   "source": [
    "spark.sql(\"\"\"\n",
    "WITH noc_medals AS\n",
    "(\n",
    "    SELECT NOC, medal, count(medal) as medal_count\n",
    "    FROM olympics_history\n",
    "    Where medal!=\"NA\"\n",
    "    GROUP BY NOC, medal\n",
    "    ORDER BY NOC, medal\n",
    ")\n",
    "SELECT noc_medals.NOC, OLYMPICS_HISTORY_NOC_REGION.region as region, medal, medal_count, \n",
    "RANK() OVER(PARTITION BY region ORDER BY medal_count DESC) Rank\n",
    "FROM noc_medals\n",
    "left JOIN OLYMPICS_HISTORY_NOC_REGION on OLYMPICS_HISTORY_NOC_REGION.NOC==noc_medals.NOC\n",
    "\n",
    "\"\"\").show()\n",
    "\n"
   ]
  },
  {
   "cell_type": "code",
   "execution_count": 223,
   "id": "cd095a6a-27ab-4fb7-b0b8-b818c3e9a1fc",
   "metadata": {},
   "outputs": [
    {
     "name": "stdout",
     "output_type": "stream",
     "text": [
      "+-----------+------+-----------+----+\n",
      "|     region| medal|medal_count|Rank|\n",
      "+-----------+------+-----------+----+\n",
      "|       null|Bronze|          4|   1|\n",
      "|       null|Silver|          4|   1|\n",
      "|       null|  Gold|          1|   3|\n",
      "|Afghanistan|Bronze|          2|   1|\n",
      "|    Algeria|Bronze|          8|   1|\n",
      "|    Algeria|  Gold|          5|   2|\n",
      "|    Algeria|Silver|          4|   3|\n",
      "|  Argentina|Silver|         92|   1|\n",
      "|  Argentina|Bronze|         91|   2|\n",
      "|  Argentina|  Gold|         91|   2|\n",
      "|    Armenia|Bronze|          9|   1|\n",
      "|    Armenia|Silver|          5|   2|\n",
      "|    Armenia|  Gold|          2|   3|\n",
      "|  Australia|Bronze|        522|   1|\n",
      "|  Australia|Silver|        459|   2|\n",
      "|  Australia|  Gold|        368|   3|\n",
      "|    Austria|Silver|        186|   1|\n",
      "|    Austria|Bronze|        156|   2|\n",
      "|    Austria|  Gold|        108|   3|\n",
      "| Azerbaijan|Bronze|         25|   1|\n",
      "+-----------+------+-----------+----+\n",
      "only showing top 20 rows\n",
      "\n"
     ]
    }
   ],
   "source": [
    "spark.sql(\"\"\"\n",
    "WITH noc_medals AS\n",
    "(\n",
    "    SELECT NOC, medal, count(medal) as medal_count\n",
    "    FROM olympics_history\n",
    "    Where medal!=\"NA\"\n",
    "    GROUP BY NOC, medal\n",
    "    ORDER BY NOC, medal\n",
    "),\n",
    "region_medal AS\n",
    "(\n",
    "    SELECT noc_medals.NOC, OLYMPICS_HISTORY_NOC_REGION.region, medal, medal_count\n",
    "    FROM noc_medals\n",
    "    left JOIN OLYMPICS_HISTORY_NOC_REGION on OLYMPICS_HISTORY_NOC_REGION.NOC==noc_medals.NOC\n",
    "),\n",
    "region_medal_count AS\n",
    "(\n",
    "    SELECT region, medal, sum(medal_count) as medal_count \n",
    "    FROM region_medal\n",
    "    GROUP BY region, medal\n",
    "    ORDER BY region, medal\n",
    ")\n",
    "SELECT region, medal, medal_count, \n",
    "RANK() OVER(PARTITION BY region ORDER BY medal_count DESC) Rank\n",
    "FROM region_medal_count\n",
    "\"\"\").show()\n"
   ]
  },
  {
   "cell_type": "markdown",
   "id": "379b0fc0-321b-4320-8d9f-29522dae8966",
   "metadata": {},
   "source": [
    "### List down total gold, silver and bronze medals won by each country corresponding to each olympic games."
   ]
  },
  {
   "cell_type": "code",
   "execution_count": 233,
   "id": "dce651b7-9164-4c00-981d-e02ed11d992d",
   "metadata": {},
   "outputs": [
    {
     "name": "stdout",
     "output_type": "stream",
     "text": [
      "+-----------+-----------+------+-----------+----+\n",
      "|     region|      games| medal|medal_count|Rank|\n",
      "+-----------+-----------+------+-----------+----+\n",
      "|       null|2012 Summer|Bronze|          4|   1|\n",
      "|       null|2008 Summer|Silver|          3|   2|\n",
      "|       null|1960 Summer|Silver|          1|   3|\n",
      "|       null|2016 Summer|  Gold|          1|   3|\n",
      "|Afghanistan|2008 Summer|Bronze|          1|   1|\n",
      "|Afghanistan|2012 Summer|Bronze|          1|   1|\n",
      "|    Algeria|2000 Summer|Bronze|          3|   1|\n",
      "|    Algeria|1984 Summer|Bronze|          2|   2|\n",
      "|    Algeria|1996 Summer|  Gold|          2|   2|\n",
      "|    Algeria|2016 Summer|Silver|          2|   2|\n",
      "|    Algeria|1992 Summer|Bronze|          1|   5|\n",
      "|    Algeria|1992 Summer|  Gold|          1|   5|\n",
      "|    Algeria|1996 Summer|Bronze|          1|   5|\n",
      "|    Algeria|2000 Summer|  Gold|          1|   5|\n",
      "|    Algeria|2000 Summer|Silver|          1|   5|\n",
      "|    Algeria|2008 Summer|Bronze|          1|   5|\n",
      "|    Algeria|2008 Summer|Silver|          1|   5|\n",
      "|    Algeria|2012 Summer|  Gold|          1|   5|\n",
      "|  Argentina|2008 Summer|Bronze|         31|   1|\n",
      "|  Argentina|2004 Summer|  Gold|         28|   2|\n",
      "+-----------+-----------+------+-----------+----+\n",
      "only showing top 20 rows\n",
      "\n"
     ]
    }
   ],
   "source": [
    "spark.sql(\"\"\"\n",
    "WITH noc_medals AS\n",
    "(\n",
    "    SELECT NOC, games, medal, count(medal) as medal_count\n",
    "    FROM olympics_history\n",
    "    Where medal!=\"NA\"\n",
    "    GROUP BY NOC, games, medal\n",
    "    ORDER BY NOC, games, medal\n",
    "),\n",
    "region_medal AS\n",
    "(\n",
    "    SELECT noc_medals.NOC, OLYMPICS_HISTORY_NOC_REGION.region, games, medal, medal_count\n",
    "    FROM noc_medals\n",
    "    left JOIN OLYMPICS_HISTORY_NOC_REGION on OLYMPICS_HISTORY_NOC_REGION.NOC==noc_medals.NOC\n",
    "),\n",
    "region_medal_count AS\n",
    "(\n",
    "    SELECT region, games, medal, sum(medal_count) as medal_count \n",
    "    FROM region_medal\n",
    "    GROUP BY region, games, medal\n",
    "    ORDER BY region, games, medal\n",
    ")\n",
    "SELECT region, games, medal, medal_count, \n",
    "RANK() OVER(PARTITION BY region ORDER BY medal_count DESC) Rank\n",
    "FROM region_medal_count\n",
    "\"\"\").show()\n"
   ]
  },
  {
   "cell_type": "markdown",
   "id": "41896b6e-87f1-4360-bb0b-d844ff359284",
   "metadata": {},
   "source": [
    "###  Identify which country won the most gold, most silver and most bronze medals in each olympic games.\n",
    "\n",
    "2 ways to transpose the data"
   ]
  },
  {
   "cell_type": "code",
   "execution_count": 279,
   "id": "e844f40c-87c1-48de-82bd-a0b7f08eb1af",
   "metadata": {},
   "outputs": [
    {
     "name": "stdout",
     "output_type": "stream",
     "text": [
      "+-----------+------------+-------------------+----------------+\n",
      "|      games|        Gold|             Silver|          Bronze|\n",
      "+-----------+------------+-------------------+----------------+\n",
      "|1896 Summer|Germany - 25|        Greece - 18|     Greece - 20|\n",
      "|1900 Summer|     UK - 59|       France - 101|     France - 82|\n",
      "|1904 Summer|   USA - 128|          USA - 141|       USA - 125|\n",
      "|1906 Summer| Greece - 24|        Greece - 48|     Greece - 30|\n",
      "|1908 Summer|    UK - 147|           UK - 131|         UK - 90|\n",
      "|1912 Summer|Sweden - 103|            UK - 64|         UK - 59|\n",
      "|1920 Summer|   USA - 111|        France - 71|    Belgium - 66|\n",
      "|1924 Summer|    USA - 97|        France - 51|        USA - 49|\n",
      "|1924 Winter|     UK - 16|           USA - 10|         UK - 11|\n",
      "|1928 Summer|    USA - 47|   Netherlands - 29|    Germany - 41|\n",
      "|1928 Winter| Canada - 12|        Sweden - 13|Switzerland - 12|\n",
      "|1932 Summer|    USA - 81|           USA - 47|        USA - 61|\n",
      "|1932 Winter| Canada - 14|           USA - 21|    Germany - 14|\n",
      "|1936 Summer|Germany - 93|       Germany - 70|    Germany - 61|\n",
      "|1936 Winter|     UK - 12|        Canada - 13|        USA - 14|\n",
      "|1948 Summer|    USA - 87|            UK - 42|        USA - 35|\n",
      "|1948 Winter| Canada - 13|Czech Republic - 17|Switzerland - 19|\n",
      "|1952 Summer|    USA - 83|        Russia - 62|    Hungary - 32|\n",
      "|1952 Winter| Canada - 16|           USA - 25|     Sweden - 23|\n",
      "|1956 Summer| Russia - 68|        Russia - 46|     Russia - 55|\n",
      "+-----------+------------+-------------------+----------------+\n",
      "only showing top 20 rows\n",
      "\n"
     ]
    }
   ],
   "source": [
    "# way 1\n",
    "spark.sql(\"\"\"\n",
    "WITH noc_medals AS\n",
    "(\n",
    "    SELECT NOC, games, medal, count(medal) as medal_count\n",
    "    FROM olympics_history\n",
    "    Where medal!=\"NA\"\n",
    "    GROUP BY NOC, games, medal\n",
    "    ORDER BY NOC, games, medal\n",
    "),\n",
    "region_medal AS\n",
    "(\n",
    "    SELECT noc_medals.NOC, OLYMPICS_HISTORY_NOC_REGION.region, games, medal, medal_count\n",
    "    FROM noc_medals\n",
    "    left JOIN OLYMPICS_HISTORY_NOC_REGION on OLYMPICS_HISTORY_NOC_REGION.NOC==noc_medals.NOC\n",
    "),\n",
    "region_medal_count AS\n",
    "(\n",
    "    SELECT region, games, medal, sum(medal_count) as medal_count \n",
    "    FROM region_medal\n",
    "    GROUP BY region, games, medal\n",
    "    ORDER BY region, games, medal\n",
    "),\n",
    "country_won_most_medal_per_game AS\n",
    "(\n",
    "\n",
    "    SELECT games, medal, region, medal_count, \n",
    "    RANK() OVER(PARTITION BY games, medal ORDER BY medal_count DESC) Rank\n",
    "    FROM region_medal_count\n",
    "),\n",
    "answer AS\n",
    "(\n",
    "    SELECT games, medal, region, medal_count\n",
    "    FROM country_won_most_medal_per_game\n",
    "    WHERE Rank==1\n",
    ")\n",
    "SELECT games,\n",
    "        Max(CASE WHEN medal = 'Gold' THEN Concat(region, ' - ', medal_count) END) AS Gold,\n",
    "        Max(CASE WHEN medal = 'Silver' THEN Concat(region, ' - ', medal_count) END) AS Silver,\n",
    "        Max(CASE WHEN medal = 'Bronze' THEN Concat(region, ' - ', medal_count) END) AS Bronze\n",
    "FROM answer\n",
    "GROUP BY games\n",
    "\"\"\").show()\n"
   ]
  },
  {
   "cell_type": "code",
   "execution_count": null,
   "id": "d16030fc-6430-4711-8018-86b99e960f49",
   "metadata": {},
   "outputs": [],
   "source": [
    "# way 2\n",
    "spark.sql(\"\"\"\n",
    "WITH noc_medals AS\n",
    "(\n",
    "    SELECT NOC, games, medal, count(medal) as medal_count\n",
    "    FROM olympics_history\n",
    "    Where medal!=\"NA\"\n",
    "    GROUP BY NOC, games, medal\n",
    "    ORDER BY NOC, games, medal\n",
    "),\n",
    "region_medal AS\n",
    "(\n",
    "    SELECT noc_medals.NOC, OLYMPICS_HISTORY_NOC_REGION.region, games, medal, medal_count\n",
    "    FROM noc_medals\n",
    "    left JOIN OLYMPICS_HISTORY_NOC_REGION on OLYMPICS_HISTORY_NOC_REGION.NOC==noc_medals.NOC\n",
    "),\n",
    "region_medal_count AS\n",
    "(\n",
    "    SELECT region, games, medal, sum(medal_count) as medal_count \n",
    "    FROM region_medal\n",
    "    GROUP BY region, games, medal\n",
    "    ORDER BY region, games, medal\n",
    "),\n",
    "country_won_most_medal_per_game AS\n",
    "(\n",
    "\n",
    "    SELECT games, medal, region, medal_count, \n",
    "    RANK() OVER(PARTITION BY games, medal ORDER BY medal_count DESC) Rank\n",
    "    FROM region_medal_count\n",
    "),\n",
    "answer_gold AS\n",
    "(\n",
    "    SELECT games, medal, region, medal_count\n",
    "    FROM country_won_most_medal_per_game\n",
    "    WHERE Rank==1 and medal=='Gold'\n",
    "),\n",
    "answer_silver AS\n",
    "(\n",
    "    SELECT games, medal, region, medal_count\n",
    "    FROM country_won_most_medal_per_game\n",
    "    WHERE Rank==1 and medal=='Silver'\n",
    "),\n",
    "answer_bronze AS\n",
    "(\n",
    "    SELECT games, medal, region, medal_count\n",
    "    FROM country_won_most_medal_per_game\n",
    "    WHERE Rank==1 and medal=='Bronze'\n",
    ")\n",
    "SELECT answer_gold.games, \n",
    "    CONCAT(answer_gold.region, ' - ', answer_gold.medal_count) as Gold,\n",
    "    CONCAT(answer_silver.region, ' - ', answer_silver.medal_count) as Silver,\n",
    "    CONCAT(answer_bronze.region, ' - ', answer_bronze.medal_count) as Bronze\n",
    "FROM answer_gold\n",
    "JOIN answer_silver \n",
    "JOIN answer_bronze\n",
    "on answer_gold.games=answer_silver.games and answer_gold.games=answer_bronze.games\n",
    "\"\"\").show()\n"
   ]
  },
  {
   "cell_type": "markdown",
   "id": "54c7880b-f20a-431b-8f38-9ca988f59ae7",
   "metadata": {},
   "source": [
    "### Identify which country won the most gold, most silver, most bronze medals and the most medals in each olympic games."
   ]
  },
  {
   "cell_type": "code",
   "execution_count": null,
   "id": "d31cbeeb-d3c7-4e4f-bb5c-18fc39d0742d",
   "metadata": {},
   "outputs": [],
   "source": []
  },
  {
   "cell_type": "markdown",
   "id": "cc079ad9-18fe-44e4-ab74-f97fc027b216",
   "metadata": {},
   "source": [
    "### Which countries have never won gold medal but have won silver/bronze medals?"
   ]
  },
  {
   "cell_type": "code",
   "execution_count": null,
   "id": "78771d43-5502-47a2-aba5-c0965534d402",
   "metadata": {},
   "outputs": [],
   "source": []
  },
  {
   "cell_type": "markdown",
   "id": "8a740593-d6de-4222-b43a-6d73e7fba5aa",
   "metadata": {},
   "source": [
    "### Break down all olympic games where India won medal for Hockey and how many medals in each olympic games"
   ]
  },
  {
   "cell_type": "code",
   "execution_count": null,
   "id": "1ba21568-2c32-492c-9e2a-a6345be8f6d0",
   "metadata": {},
   "outputs": [],
   "source": []
  },
  {
   "cell_type": "code",
   "execution_count": null,
   "id": "61a6cc17-c7d4-4fe5-b9b6-4866cb22520e",
   "metadata": {},
   "outputs": [],
   "source": []
  }
 ],
 "metadata": {
  "kernelspec": {
   "display_name": "Python 3 (ipykernel)",
   "language": "python",
   "name": "python3"
  },
  "language_info": {
   "codemirror_mode": {
    "name": "ipython",
    "version": 3
   },
   "file_extension": ".py",
   "mimetype": "text/x-python",
   "name": "python",
   "nbconvert_exporter": "python",
   "pygments_lexer": "ipython3",
   "version": "3.10.6"
  }
 },
 "nbformat": 4,
 "nbformat_minor": 5
}
